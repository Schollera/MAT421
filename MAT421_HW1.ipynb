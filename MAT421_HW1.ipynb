{
  "nbformat": 4,
  "nbformat_minor": 0,
  "metadata": {
    "colab": {
      "provenance": [],
      "authorship_tag": "ABX9TyNqfqkTojNkuIQiMMQrI0Pb",
      "include_colab_link": true
    },
    "kernelspec": {
      "name": "python3",
      "display_name": "Python 3"
    },
    "language_info": {
      "name": "python"
    }
  },
  "cells": [
    {
      "cell_type": "markdown",
      "metadata": {
        "id": "view-in-github",
        "colab_type": "text"
      },
      "source": [
        "<a href=\"https://colab.research.google.com/github/Schollera/MAT421/blob/main/MAT421_HW1.ipynb\" target=\"_parent\"><img src=\"https://colab.research.google.com/assets/colab-badge.svg\" alt=\"Open In Colab\"/></a>"
      ]
    },
    {
      "cell_type": "markdown",
      "source": [
        "Sohan Chollera\n",
        "\n",
        "MAT421 HW#1\n",
        "\n",
        "Due Date: 1/19/2025"
      ],
      "metadata": {
        "id": "Rcn_FEWaqPsx"
      }
    },
    {
      "cell_type": "markdown",
      "source": [
        "Section 9.1  Base N and Binary\n",
        "\n",
        "*   We leverage the Arabic numeral system which takes the base 10 form of numbers from 0-9. However, computers must leverage the binary system where arabic numerals from 0-9 are converted into combinations of 0 and 1.\n",
        "*   Just as the traditional mathematical operations of addition, subtraction, multiplication, and division exist in the base 10 system, the same exist in the binary system.\n",
        "\n",
        "Observe below:"
      ],
      "metadata": {
        "id": "np-bBBWxq0YN"
      }
    },
    {
      "cell_type": "code",
      "source": [
        "#Base Ten conversion to Binary\n",
        "#Set base ten\n",
        "base_ten = 5431\n",
        "\n",
        "#conversion to binary\n",
        "\n",
        "binary = bin(base_ten)[2:]\n",
        "print(f\"{base_ten} converted to binary is {binary}\")"
      ],
      "metadata": {
        "colab": {
          "base_uri": "https://localhost:8080/"
        },
        "id": "hUbxJqltwZeb",
        "outputId": "bda9271d-473e-4726-e649-c3bf22e927b6"
      },
      "execution_count": 66,
      "outputs": [
        {
          "output_type": "stream",
          "name": "stdout",
          "text": [
            "5431 converted to binary is 1010100110111\n"
          ]
        }
      ]
    },
    {
      "cell_type": "code",
      "source": [
        "# Binary conversion to Base Ten\n",
        "#Set binary\n",
        "binary = \"101011\"\n",
        "#Convert to base ten\n",
        "base_ten = int(binary, 2)\n",
        "print(f\"{binary} converted to base ten form is {base_ten}\")"
      ],
      "metadata": {
        "colab": {
          "base_uri": "https://localhost:8080/"
        },
        "id": "PyB1NBCJ6hnJ",
        "outputId": "e8fcd86b-6aa3-44f9-d48e-cc99366e2e42"
      },
      "execution_count": 65,
      "outputs": [
        {
          "output_type": "stream",
          "name": "stdout",
          "text": [
            "101011 converted to base ten form is 43\n"
          ]
        }
      ]
    },
    {
      "cell_type": "code",
      "source": [
        "#Mathematical Operations on Base Ten\n",
        "#Set Base 10\n",
        "num1 = 123\n",
        "num2 = 421\n",
        "\n",
        "#Operate\n",
        "addition = num1 + num2\n",
        "multiplication = num1 * num2\n",
        "division = num2 / num1 #gives a float\n",
        "subtraction = num2 - num1\n",
        "\n",
        "print(f\"Addition: {num1} + {num2} = {addition}\")\n",
        "print(f\"Multiplication: {num1} * {num2} = {multiplication}\")\n",
        "print(f\"Division: {num2} / {num1} = {division}\")\n",
        "print(f\"Subtraction: {num2} - {num1} = {subtraction}\")"
      ],
      "metadata": {
        "colab": {
          "base_uri": "https://localhost:8080/"
        },
        "id": "Gs8U3sWR6-Iu",
        "outputId": "f3c592cd-16a7-48a6-f670-71152aac18a3"
      },
      "execution_count": 64,
      "outputs": [
        {
          "output_type": "stream",
          "name": "stdout",
          "text": [
            "Addition: 123 + 421 = 544\n",
            "Multiplication: 123 * 421 = 51783\n",
            "Division: 421 / 123 = 3.4227642276422765\n",
            "Subtraction: 421 - 123 = 298\n"
          ]
        }
      ]
    },
    {
      "cell_type": "code",
      "source": [
        "#Mathematical Operations on Base Ten\n",
        "#Set Base 10\n",
        "num1 = 123\n",
        "num2 = 421\n",
        "\n",
        "#Operate\n",
        "addition = num1 + num2\n",
        "multiplication = num1 * num2\n",
        "division = num2 / num1 #gives a float\n",
        "subtraction = num2 - num1\n",
        "\n",
        "print(f\"Addition: {num1} + {num2} = {addition}\")\n",
        "print(f\"Multiplication: {num1} * {num2} = {multiplication}\")\n",
        "print(f\"Division: {num2} / {num1} = {division}\")\n",
        "print(f\"Subtraction: {num2} - {num1} = {subtraction}\")"
      ],
      "metadata": {
        "colab": {
          "base_uri": "https://localhost:8080/"
        },
        "outputId": "dbb3b73b-a192-482a-ac76-2a7f90cf8aa9",
        "id": "pF-Ivqz79UwV"
      },
      "execution_count": 63,
      "outputs": [
        {
          "output_type": "stream",
          "name": "stdout",
          "text": [
            "Addition: 123 + 421 = 544\n",
            "Multiplication: 123 * 421 = 51783\n",
            "Division: 421 / 123 = 3.4227642276422765\n",
            "Subtraction: 421 - 123 = 298\n"
          ]
        }
      ]
    },
    {
      "cell_type": "code",
      "source": [
        "#Mathematical Operations on Binary, then conversion to Base 10\n",
        "#Set binary\n",
        "binary_num1 = \"110\"\n",
        "binary_num2 = \"10\"   #\n",
        "\n",
        "#Binary to base10\n",
        "num1 = int(binary_num1, 2)\n",
        "num2 = int(binary_num2, 2)\n",
        "\n",
        "#Operate\n",
        "binary_addition = bin(num1 + num2)[2:]\n",
        "binary_multiplication = bin(num1 * num2)[2:]\n",
        "binary_division = bin(num1 // num2)[2:]\n",
        "binary_subtraction = bin(num1 - num2)[2:]\n",
        "\n",
        "#Demical conversion\n",
        "base10_addition = int(binary_addition, 2)\n",
        "base10_multiplication = int(binary_multiplication, 2)\n",
        "base10_division = int(binary_division, 2)\n",
        "base10_subtraction = int(binary_subtraction, 2)\n",
        "\n",
        "# Print the results\n",
        "print(f\"Binary Addition: {binary_num1} + {binary_num2} = {binary_addition} (Base 10: {base10_addition})\")\n",
        "print(f\"Binary Multiplication: {binary_num1} * {binary_num2} = {binary_multiplication} (Base 10: {base10_multiplication})\")\n",
        "print(f\"Binary Division: {binary_num1} / {binary_num2} = {binary_division} (Base 10: {base10_division})\")\n",
        "print(f\"Binary Subtraction: {binary_num1} - {binary_num2} = {binary_subtraction} (Base 10: {base10_subtraction})\")"
      ],
      "metadata": {
        "colab": {
          "base_uri": "https://localhost:8080/"
        },
        "id": "q7PuMaOz7ov8",
        "outputId": "c1452510-9e3c-4a24-f5a1-3e97cc12b0b0"
      },
      "execution_count": 62,
      "outputs": [
        {
          "output_type": "stream",
          "name": "stdout",
          "text": [
            "Binary Addition: 110 + 10 = 1000 (Base 10: 8)\n",
            "Binary Multiplication: 110 * 10 = 1100 (Base 10: 12)\n",
            "Binary Division: 110 / 10 = 11 (Base 10: 3)\n",
            "Binary Subtraction: 110 - 10 = 100 (Base 10: 4)\n"
          ]
        }
      ]
    },
    {
      "cell_type": "markdown",
      "source": [
        "Section 9.2 Floating Point Numbers\n",
        "\n",
        "*   Floating point numbers are representations of real numbers, allowing for fractional values. It is used for large or small numbers well. The mantissa is multiplied by 2 (or 10, depending on the base), raised to an exponent. The exponent determines the magnitude. The signage determines whether the number is positive or negative."
      ],
      "metadata": {
        "id": "8vlJUkjN-3bK"
      }
    },
    {
      "cell_type": "code",
      "source": [
        "#Max/min of floats, as well as other info\n",
        "import sys\n",
        "sys.float_info"
      ],
      "metadata": {
        "colab": {
          "base_uri": "https://localhost:8080/"
        },
        "id": "6BChJFcnDTSZ",
        "outputId": "d87d5ee2-50e4-447f-b98d-86ba77efdd6a"
      },
      "execution_count": 13,
      "outputs": [
        {
          "output_type": "execute_result",
          "data": {
            "text/plain": [
              "sys.float_info(max=1.7976931348623157e+308, max_exp=1024, max_10_exp=308, min=2.2250738585072014e-308, min_exp=-1021, min_10_exp=-307, dig=15, mant_dig=53, epsilon=2.220446049250313e-16, radix=2, rounds=1)"
            ]
          },
          "metadata": {},
          "execution_count": 13
        }
      ]
    },
    {
      "cell_type": "code",
      "source": [
        "#Overflow Error\n",
        "import math\n",
        "\n",
        "#Set number\n",
        "large_number = 1e308\n",
        "try:\n",
        "  #Make it bigger\n",
        "  result = large_number * 10\n",
        "  print(\"Result: \", result)\n",
        "except OverflowError:\n",
        "  print(\"OverflowError: Result too large\")"
      ],
      "metadata": {
        "colab": {
          "base_uri": "https://localhost:8080/"
        },
        "id": "svKpS0DaEKeD",
        "outputId": "0cc92bdf-7302-45d0-858e-3f10115f2c44"
      },
      "execution_count": 61,
      "outputs": [
        {
          "output_type": "stream",
          "name": "stdout",
          "text": [
            "Result:  inf\n"
          ]
        }
      ]
    },
    {
      "cell_type": "code",
      "source": [
        "#Underflow Error\n",
        "\n",
        "#Set number\n",
        "small_number = 1e-323\n",
        "#Make it smaller\n",
        "underflow_result = small_number / 10\n",
        "print(\"Underflow Result:\", underflow_result)"
      ],
      "metadata": {
        "colab": {
          "base_uri": "https://localhost:8080/"
        },
        "id": "o2iqvX1LH2zh",
        "outputId": "68e00e17-4dd8-4dc1-d45b-73875c43b28a"
      },
      "execution_count": 60,
      "outputs": [
        {
          "output_type": "stream",
          "name": "stdout",
          "text": [
            "Underflow Result: 0.0\n"
          ]
        }
      ]
    },
    {
      "cell_type": "code",
      "source": [
        "#Precision Error in Addition\n",
        "\n",
        "#add small numbers\n",
        "result = 0.1 + 0.2\n",
        "print(\"Result of 0.1 and 0.2 added is\", result)\n",
        "\n",
        "#add large and small number\n",
        "large_number = 1e20\n",
        "small_number = 2.0\n",
        "result1 = large_number + small_number\n",
        "print(\"Result of small and large number added:\", result1)"
      ],
      "metadata": {
        "colab": {
          "base_uri": "https://localhost:8080/"
        },
        "id": "acKQXy_JIeLQ",
        "outputId": "14b508c9-f64b-499b-b389-003cd116fa35"
      },
      "execution_count": 59,
      "outputs": [
        {
          "output_type": "stream",
          "name": "stdout",
          "text": [
            "Result of 0.1 and 0.2 added is 0.30000000000000004\n",
            "Result of small and large number added: 1e+20\n"
          ]
        }
      ]
    },
    {
      "cell_type": "code",
      "source": [
        "#Floating Point Comparison Errors\n",
        "\n",
        "#Add two digits\n",
        "a = 0.1 + 0.2\n",
        "#Set number\n",
        "b = 0.3\n",
        "#Compare\n",
        "print(\"a == b:\", a == b)"
      ],
      "metadata": {
        "colab": {
          "base_uri": "https://localhost:8080/"
        },
        "id": "xjAYUr-kJFna",
        "outputId": "b9b300fa-b178-4468-eca3-ad9347ec7bc0"
      },
      "execution_count": 58,
      "outputs": [
        {
          "output_type": "stream",
          "name": "stdout",
          "text": [
            "a == b: False\n"
          ]
        }
      ]
    },
    {
      "cell_type": "markdown",
      "source": [
        "Section 9.3 Round-off Errors\n",
        "*  There are a few errors that computers create that create a difference between the true value and its calculated/computer value. The difference is round-off error.\n",
        "*  There are various other forms of errors, such as representation errors and truncation errors, shown below"
      ],
      "metadata": {
        "id": "lGxIHr2fJ1DJ"
      }
    },
    {
      "cell_type": "code",
      "source": [
        "#Round-Off Error Example\n",
        "\n",
        "#Set values\n",
        "a = 0.1\n",
        "b = 0.2\n",
        "#Add\n",
        "result = a + b\n",
        "print(f\"Result of 0.1 and 0.2 added: {result}\")"
      ],
      "metadata": {
        "colab": {
          "base_uri": "https://localhost:8080/"
        },
        "id": "7pcB5SD-Mkrc",
        "outputId": "741fa771-b39f-4fd4-8637-40174e06bf0a"
      },
      "execution_count": 57,
      "outputs": [
        {
          "output_type": "stream",
          "name": "stdout",
          "text": [
            "Result of 0.1 and 0.2 added: 0.30000000000000004\n"
          ]
        }
      ]
    },
    {
      "cell_type": "code",
      "source": [
        "#Representation Error\n",
        "\n",
        "x = 2.1\n",
        "print(f\"Binary representation of 2.1 is {x:.20f}\")"
      ],
      "metadata": {
        "colab": {
          "base_uri": "https://localhost:8080/"
        },
        "id": "TlCq34xUOpS5",
        "outputId": "d86ebc78-3333-46a2-a648-eb6631a71864"
      },
      "execution_count": 56,
      "outputs": [
        {
          "output_type": "stream",
          "name": "stdout",
          "text": [
            "Binary representation of 2.1 is 2.10000000000000008882\n"
          ]
        }
      ]
    },
    {
      "cell_type": "code",
      "source": [
        "#Truncation Error with e^x\n",
        "import math\n",
        "\n",
        "x = 2\n",
        "approx_e = 1 + x + (x**2 / 2) + (x**3 / 6)  #Series expansion of e with 4 terms\n",
        "exact_e = math.exp(x) #pre-programmed value for e in package\n",
        "print(f\"Approximated e^1: {approx_e}\")\n",
        "print(f\"Exact e^1: {exact_e}\")\n",
        "print(f\"Truncation Error: {abs(exact_e - approx_e)}\")"
      ],
      "metadata": {
        "colab": {
          "base_uri": "https://localhost:8080/"
        },
        "id": "AY19t_RgO32X",
        "outputId": "2da883bb-195a-44aa-fd2e-68190f05b588"
      },
      "execution_count": 55,
      "outputs": [
        {
          "output_type": "stream",
          "name": "stdout",
          "text": [
            "Approximated e^1: 6.333333333333333\n",
            "Exact e^1: 7.38905609893065\n",
            "Truncation Error: 1.0557227655973174\n"
          ]
        }
      ]
    },
    {
      "cell_type": "code",
      "source": [
        "# Example of Accumulation of Round-Off Errors\n",
        "total = 0.0\n",
        "#Accumulation loop\n",
        "for i in range(20000000):\n",
        "    total += 0.000001 #tiny increment\n",
        "\n",
        "expected = 20000000 * 0.000001\n",
        "print(f\"Accumulated Total: {total}\")\n",
        "print(f\"Expected Total: {expected}\")\n",
        "print(f\"Accumulation Error: {abs(total - expected)}\")"
      ],
      "metadata": {
        "colab": {
          "base_uri": "https://localhost:8080/"
        },
        "id": "thwLXq7fPn7H",
        "outputId": "009bcbe2-9b8f-44a9-f528-8eee021f1b82"
      },
      "execution_count": 54,
      "outputs": [
        {
          "output_type": "stream",
          "name": "stdout",
          "text": [
            "Accumulated Total: 19.99999999888894\n",
            "Expected Total: 20.0\n",
            "Accumulation Error: 1.1110614650533535e-09\n"
          ]
        }
      ]
    },
    {
      "cell_type": "code",
      "source": [
        "#Cancellation Errors\n",
        "\n",
        "a = 2.000004\n",
        "b = 2.000000\n",
        "result = a - b\n",
        "print(f\"Result of subtration operation (2.000004 - 2.000000): {result}\")"
      ],
      "metadata": {
        "colab": {
          "base_uri": "https://localhost:8080/"
        },
        "id": "IgNiUXNEQJD1",
        "outputId": "24d78959-cbe2-46a4-cb87-ff656d715da1"
      },
      "execution_count": 53,
      "outputs": [
        {
          "output_type": "stream",
          "name": "stdout",
          "text": [
            "Result of subtration operation (2.000004 - 2.000000): 4.000000000115023e-06\n"
          ]
        }
      ]
    }
  ]
}