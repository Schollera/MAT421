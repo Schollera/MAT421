{
  "nbformat": 4,
  "nbformat_minor": 0,
  "metadata": {
    "colab": {
      "provenance": [],
      "authorship_tag": "ABX9TyPDDOg0QyxBsee6+TAsHZuV",
      "include_colab_link": true
    },
    "kernelspec": {
      "name": "python3",
      "display_name": "Python 3"
    },
    "language_info": {
      "name": "python"
    }
  },
  "cells": [
    {
      "cell_type": "markdown",
      "metadata": {
        "id": "view-in-github",
        "colab_type": "text"
      },
      "source": [
        "<a href=\"https://colab.research.google.com/github/Schollera/MAT421/blob/main/MAT421_HW5.ipynb\" target=\"_parent\"><img src=\"https://colab.research.google.com/assets/colab-badge.svg\" alt=\"Open In Colab\"/></a>"
      ]
    },
    {
      "cell_type": "markdown",
      "source": [
        "Sohan Chollera\n",
        "\n",
        "MAT421 HW#5\n",
        "\n",
        "Due Date: 2/15/2025"
      ],
      "metadata": {
        "id": "DIvvESoM5VwV"
      }
    },
    {
      "cell_type": "markdown",
      "source": [
        "Example One:\n",
        "\n",
        "An eingenvector is a non-zero vector that only scales by a constant factor, given a square matrix A. An eingenvalue is a scalar representing the factor by which the eingenvector is scaled."
      ],
      "metadata": {
        "id": "sUj7oKjPTIHf"
      }
    },
    {
      "cell_type": "code",
      "execution_count": 18,
      "metadata": {
        "colab": {
          "base_uri": "https://localhost:8080/"
        },
        "id": "_WXs6So8KgfS",
        "outputId": "78d7fa1e-4e85-48ec-c45a-e8e7d7d7c2c3"
      },
      "outputs": [
        {
          "output_type": "stream",
          "name": "stdout",
          "text": [
            "Eingenvalue 3.0:\n",
            "A * v = [2.68328157 1.34164079]\n",
            "lambda * v = [2.68328157 1.34164079]\n",
            "Difference: True\n",
            "\n",
            "Eingenvalue 2.0:\n",
            "A * v = [1.41421356 1.41421356]\n",
            "lambda * v = [1.41421356 1.41421356]\n",
            "Difference: True\n",
            "\n"
          ]
        }
      ],
      "source": [
        "import numpy as np\n",
        "#Define square matrix\n",
        "A = np.array([[4, -2],\n",
        "              [1, 1]])\n",
        "#Compute eingenvalues and eingenvectors\n",
        "eingenvalues, eingenvectors = np.linalg.eig(A)\n",
        "#Verify if equation holds\n",
        "for i in range(len(eingenvalues)):\n",
        "  lambda_ = eingenvalues[i]\n",
        "  v = eingenvectors[:, i]\n",
        "#Checking if A*v = lambda*v\n",
        "  lefthandside = np.dot(A, v)\n",
        "  righthandside = lambda_ * v\n",
        "  print(f\"Eingenvalue {lambda_}:\")\n",
        "  print(f\"A * v = {lefthandside}\")\n",
        "  print(f\"lambda * v = {righthandside}\")\n",
        "  print(f\"Difference: {np.allclose(lefthandside, righthandside)}\\n\")"
      ]
    },
    {
      "cell_type": "markdown",
      "source": [
        "Example Two:\n",
        "\n",
        "Singular value decomposition is a matrix factorization method to decompose an m by n matrix into three matrices, U, S, and V^T. The multiplication of these three individual matrices will yield the original matrix A."
      ],
      "metadata": {
        "id": "fdc5fZ87TIv4"
      }
    },
    {
      "cell_type": "code",
      "source": [
        "import numpy as np\n",
        "#Define square matrix\n",
        "A = np.array([[1, 10, 33],\n",
        "              [43, 51, 44],\n",
        "              [711, 84, 93]])\n",
        "#Perform SVD\n",
        "U, S, VT = np.linalg.svd(A)\n",
        "#Reconstruct A from U, S, and VT\n",
        "S_matrix = np.zeros_like(A, dtype=float)\n",
        "for i in range(len(S)):\n",
        "  S_matrix[i, i] = S[i]\n",
        "A_reconstructed = np.dot(U, np.dot(S_matrix, VT))\n",
        "#Check accuracy of reconstructed matrix\n",
        "print(f\"Original A:\\n{A}\")\n",
        "print(f\"Reconstructed A: \\n{A_reconstructed}\")\n",
        "print(f\"Difference: {np.allclose(A, A_reconstructed)}\")\n",
        "#Verify U and VT are orthogonal\n",
        "print(f\"U * U^T = \\n{np.dot(U, U.T)}\")\n",
        "print(f\"VT * VT^T = \\n{np.dot(VT, VT.T)}\")"
      ],
      "metadata": {
        "colab": {
          "base_uri": "https://localhost:8080/"
        },
        "id": "VrVUe57OMLIo",
        "outputId": "18b7d10a-918b-48c6-9094-dc65d82833c3"
      },
      "execution_count": 19,
      "outputs": [
        {
          "output_type": "stream",
          "name": "stdout",
          "text": [
            "Original A:\n",
            "[[  1  10  33]\n",
            " [ 43  51  44]\n",
            " [711  84  93]]\n",
            "Reconstructed A: \n",
            "[[  1.  10.  33.]\n",
            " [ 43.  51.  44.]\n",
            " [711.  84.  93.]]\n",
            "Difference: True\n",
            "U * U^T = \n",
            "[[ 1.00000000e+00 -1.63935208e-16 -5.01953498e-16]\n",
            " [-1.63935208e-16  1.00000000e+00 -5.49451465e-17]\n",
            " [-5.01953498e-16 -5.49451465e-17  1.00000000e+00]]\n",
            "VT * VT^T = \n",
            "[[ 1.00000000e+00  3.82953633e-17 -1.39031504e-17]\n",
            " [ 3.82953633e-17  1.00000000e+00 -1.73205834e-16]\n",
            " [-1.39031504e-17 -1.73205834e-16  1.00000000e+00]]\n"
          ]
        }
      ]
    },
    {
      "cell_type": "markdown",
      "source": [
        "Example Three:\n",
        "\n",
        "Linear independence is the concept where a set of vectors in a vector space cannot be written as a combination of the others."
      ],
      "metadata": {
        "id": "n2AP4QWKTJSh"
      }
    },
    {
      "cell_type": "code",
      "source": [
        "import numpy as np\n",
        "#Define a square matrix\n",
        "A = np.array([[10, 22, 33],\n",
        "              [44, 55, 66],\n",
        "              [11, 22, 33]])\n",
        "#Find rank\n",
        "rank = np.linalg.matrix_rank(A)\n",
        "print(f\"Rank of the matrix: {rank}\")\n",
        "if rank == A.shape[1]:\n",
        "  print(\"The vectors are linearly independent.\")\n",
        "else:\n",
        "  print(\"The vectors are linearly dependent.\")\n",
        "#Or, conduct elimination\n",
        "from numpy.linalg import LinAlgError\n",
        "def gaussian_elimination(A):\n",
        "  try:\n",
        "    np.linalg.inv(A)\n",
        "    return A.shape[1]\n",
        "  except LinAlgError:\n",
        "    return np.linalg.matrix_rank(A)\n",
        "print(f\"Rank calculated by gaussian elimination: {gaussian_elimination(A)}\")"
      ],
      "metadata": {
        "colab": {
          "base_uri": "https://localhost:8080/"
        },
        "id": "8FkFg9dMOH6S",
        "outputId": "b1a77f0a-517f-4a29-e2a7-56be3808b892"
      },
      "execution_count": 20,
      "outputs": [
        {
          "output_type": "stream",
          "name": "stdout",
          "text": [
            "Rank of the matrix: 3\n",
            "The vectors are linearly independent.\n",
            "Rank calculated by gaussian elimination: 3\n"
          ]
        }
      ]
    },
    {
      "cell_type": "markdown",
      "source": [
        "Example Four:\n",
        "\n",
        "Orthogonality is the relationship between two vectors being perpendicular to one another. This occurs when the dot product is zero of these two vectors."
      ],
      "metadata": {
        "id": "4737om-9TJnM"
      }
    },
    {
      "cell_type": "code",
      "source": [
        "import numpy as np\n",
        "#Define vectors\n",
        "v1 = np.array([1, 20])\n",
        "v2 = np.array([-33, 34])\n",
        "#Dot product calculation\n",
        "dot_product = np.dot(v1, v2)\n",
        "#State results\n",
        "print(f\"Dot product of v1 and v2: {dot_product}\")\n",
        "if np.isclose(dot_product, 0):\n",
        "  print(\"The vectors are orthogonal.\")\n",
        "else:\n",
        "  print(\"The vectors are not orthogonal.\")"
      ],
      "metadata": {
        "colab": {
          "base_uri": "https://localhost:8080/"
        },
        "id": "ha0CxeMKQPr8",
        "outputId": "2081d9fb-cb59-4925-87b9-22ca83b23c1d"
      },
      "execution_count": 21,
      "outputs": [
        {
          "output_type": "stream",
          "name": "stdout",
          "text": [
            "Dot product of v1 and v2: 647\n",
            "The vectors are not orthogonal.\n"
          ]
        }
      ]
    },
    {
      "cell_type": "markdown",
      "source": [
        "Example Five:\n",
        "\n",
        "Linear regression is a statistical method to minimize the sum of squared errors between the observed and predicted values from a set of data."
      ],
      "metadata": {
        "id": "3pf7McowTJ2P"
      }
    },
    {
      "cell_type": "code",
      "source": [
        "import numpy as np\n",
        "from sklearn.linear_model import LinearRegression\n",
        "import matplotlib.pyplot as plt\n",
        "from sklearn.metrics import mean_squared_error, r2_score\n",
        "\n",
        "#Define data\n",
        "X = np.array([[1],[2],[4],[8],[16]])\n",
        "Y = np.array([3, 10, 12, 16, 31])\n",
        "#Conduct regression\n",
        "model = LinearRegression()\n",
        "model.fit(X, Y)\n",
        "slope = model.coef_[0]\n",
        "intercept = model.intercept_\n",
        "print(f\"Slope: {slope}, Intercept: {intercept}\")\n",
        "#Extrapolate values\n",
        "Y_Pred = model.predict(X)\n",
        "r2 = r2_score(Y, Y_Pred)\n",
        "mse = mean_squared_error(Y, Y_Pred)\n",
        "print(f\"R-squared: {r2}\")\n",
        "print(f\"Mean Squared Error: {mse}\")\n",
        "#Find RSS\n",
        "rss = np.sum((Y-Y_Pred)**2)\n",
        "print(f\"Residual Sum of Squares (RSS): {rss}\")\n",
        "#Plot data points and line\n",
        "plt.scatter(X, Y, color = 'red', label = 'Data Points')\n",
        "plt.plot(X, Y_Pred, color = 'blue', label = 'Regression')\n",
        "plt.xlabel('X')\n",
        "plt.ylabel('Y')\n",
        "plt.legend()\n",
        "plt.show()"
      ],
      "metadata": {
        "colab": {
          "base_uri": "https://localhost:8080/",
          "height": 518
        },
        "id": "_yR8i7nfQ2U7",
        "outputId": "bd9917ec-1c19-4829-ebe3-71c42ec21212"
      },
      "execution_count": 22,
      "outputs": [
        {
          "output_type": "stream",
          "name": "stdout",
          "text": [
            "Slope: 1.6706989247311828, Intercept: 4.041666666666668\n",
            "R-squared: 0.9587621253189568\n",
            "Mean Squared Error: 3.57284946236559\n",
            "Residual Sum of Squares (RSS): 17.86424731182795\n"
          ]
        },
        {
          "output_type": "display_data",
          "data": {
            "text/plain": [
              "<Figure size 640x480 with 1 Axes>"
            ],
            "image/png": "[encoded data removed]"
          },
          "metadata": {}
        }
      ]
    }
  ]
}