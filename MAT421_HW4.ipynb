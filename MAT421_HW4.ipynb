{
  "nbformat": 4,
  "nbformat_minor": 0,
  "metadata": {
    "colab": {
      "provenance": [],
      "authorship_tag": "ABX9TyOQYub/DtLlmrhwwYPgCMOX",
      "include_colab_link": true
    },
    "kernelspec": {
      "name": "python3",
      "display_name": "Python 3"
    },
    "language_info": {
      "name": "python"
    }
  },
  "cells": [
    {
      "cell_type": "markdown",
      "metadata": {
        "id": "view-in-github",
        "colab_type": "text"
      },
      "source": [
        "<a href=\"https://colab.research.google.com/github/Schollera/MAT421/blob/main/MAT421_HW4.ipynb\" target=\"_parent\"><img src=\"https://colab.research.google.com/assets/colab-badge.svg\" alt=\"Open In Colab\"/></a>"
      ]
    },
    {
      "cell_type": "markdown",
      "source": [
        "Sohan Chollera\n",
        "\n",
        "MAT421 HW#4\n",
        "\n",
        "Due Date: 2/9/2025"
      ],
      "metadata": {
        "id": "DIvvESoM5VwV"
      }
    },
    {
      "cell_type": "markdown",
      "source": [
        "**Root Finding Problem**\n",
        "\n",
        "A root-finding problem consists of finding a value of x such that the given function f(x)=0. We find the values for where the curve of the function will intersect the x-axis by solving for the equation f(x)=0 above."
      ],
      "metadata": {
        "id": "jrwDPfEdHf-z"
      }
    },
    {
      "cell_type": "code",
      "source": [
        "import math\n",
        "\n",
        "def f(x):\n",
        "    return math.sin(x)-x/2 #Use numerical/analytical method to find root of this function\n",
        "root_approx = 1.895 #Root expected to be this value\n",
        "print(f\"Approximate root: {root_approx}\")"
      ],
      "metadata": {
        "colab": {
          "base_uri": "https://localhost:8080/"
        },
        "id": "M7F7fLezDzRO",
        "outputId": "c79798ad-e0a8-475e-909e-e9233846d6d5"
      },
      "execution_count": 3,
      "outputs": [
        {
          "output_type": "stream",
          "name": "stdout",
          "text": [
            "Approximate root: 1.895\n"
          ]
        }
      ]
    },
    {
      "cell_type": "markdown",
      "source": [
        "**Tolerance**\n",
        "\n",
        "Tolerance is a minute acceptable error or deviation from the exact solution. When we apply this within an iterative process, we stop the iteration when the difference between successive approximations is less than a pre-defined tolerance. This ensures solution accuracy within a specified margin of error."
      ],
      "metadata": {
        "id": "-b__7WFOHgS8"
      }
    },
    {
      "cell_type": "code",
      "source": [
        "def approximate_root(f, x0, tolerance=1e-5, max_iter=100):\n",
        "  iter_count = 0\n",
        "  x=x0\n",
        "  while abs(f(x)) > tolerance and iter_count < max_iter: #Uses newton-raphson method where f'(x)=3x^2-4\n",
        "    x=x-f(x) / (3*x**2 - 4) #newton-raphson\n",
        "    iter_count +=1\n",
        "  return x\n",
        "def f(x):\n",
        "  return x**3 - 4*x + 1\n",
        "initial_guess = 2\n",
        "tolerance_value = 1e-5\n",
        "root_approx = approximate_root(f, initial_guess, tolerance_value)\n",
        "print(f\"Approximated root: {root_approx}\")\n"
      ],
      "metadata": {
        "colab": {
          "base_uri": "https://localhost:8080/"
        },
        "id": "TKWy78ABEJke",
        "outputId": "b0e521a0-6b7a-4b3c-842b-b12562581b20"
      },
      "execution_count": 5,
      "outputs": [
        {
          "output_type": "stream",
          "name": "stdout",
          "text": [
            "Approximated root: 1.8608058791604425\n"
          ]
        }
      ]
    },
    {
      "cell_type": "markdown",
      "source": [
        "**Bisection Method**\n",
        "\n",
        "This is a process used to find roots of a continuous function. We take two points, a and b, such that the function takes opposite signage at these points. The root is calculated by halving the distance between a and b, checking when the function changes signage."
      ],
      "metadata": {
        "id": "ZeeLplTyHgeh"
      }
    },
    {
      "cell_type": "code",
      "source": [
        "import math\n",
        "\n",
        "def bisection_method(f, a, b, tolerance = 1e-5, max_iter=100):\n",
        "  if f(a) * f(b) >=0:\n",
        "    print(\"The function must have an opposite signage at a and b values\")\n",
        "    return None\n",
        "  iter_count = 0\n",
        "  while (b-a) / 2.0 > tolerance and iter_count < max_iter:\n",
        "    midpoint = (a+b) / 2\n",
        "    if f(midpoint) == 0:\n",
        "      return midpoint\n",
        "    elif f(a) * f(midpoint) < 0:\n",
        "      b = midpoint\n",
        "    else:\n",
        "      a = midpoint\n",
        "    iter_count +=1\n",
        "    return (a + b)/2\n",
        "def f(x):\n",
        "  return math.exp(-x)-x\n",
        "\n",
        "root_bisection = bisection_method(f,0,1)\n",
        "print(f\"Root analyzed with bisection method: {root_bisection}\")"
      ],
      "metadata": {
        "colab": {
          "base_uri": "https://localhost:8080/"
        },
        "id": "2DGBi_BKFBst",
        "outputId": "dfb82a75-a366-4fe1-8601-ddc977d45088"
      },
      "execution_count": 7,
      "outputs": [
        {
          "output_type": "stream",
          "name": "stdout",
          "text": [
            "Root analyzed with bisection method: 0.75\n"
          ]
        }
      ]
    },
    {
      "cell_type": "markdown",
      "source": [
        "**Newton-Raphson Method**\n",
        "\n",
        "This is an iterative numerical method used to find successively bettwe approximations of the roots of a real-values function. It leverages the derivative to refine the root estimate, given a specified initial x (or a guess).\n",
        "\n"
      ],
      "metadata": {
        "id": "h87Wwm4RHg6k"
      }
    },
    {
      "cell_type": "code",
      "source": [
        "def newton_raphson_method(f, f_prime, x0, tolerance=1e-5, max_iter=100):\n",
        "  iter_count = 0\n",
        "  x=x0\n",
        "  while abs(f(x)) > tolerance and iter_count < max_iter:\n",
        "    x = (x-f(x)) / f_prime(x)\n",
        "    iter_count +=1\n",
        "  return x\n",
        "\n",
        "def f(x):\n",
        "  return x**3 - 2*x**2 - 5\n",
        "def f_prime(x):\n",
        "  return 3*x**2 - 4*x\n",
        "initial_guess = 4\n",
        "root_newton_raphson = newton_raphson_method(f, f_prime, initial_guess)\n",
        "print(f\"Root found using Newton-Raphson method: {root_newton_raphson}\")"
      ],
      "metadata": {
        "colab": {
          "base_uri": "https://localhost:8080/"
        },
        "id": "kP3CxvywF4L7",
        "outputId": "aa0aa480-cdb3-4c99-dd54-c44a08bf2f3d"
      },
      "execution_count": 9,
      "outputs": [
        {
          "output_type": "stream",
          "name": "stdout",
          "text": [
            "Root found using Newton-Raphson method: 2.0938754042588057\n"
          ]
        }
      ]
    }
  ]
}