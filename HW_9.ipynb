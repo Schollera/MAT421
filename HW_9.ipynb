{
  "nbformat": 4,
  "nbformat_minor": 0,
  "metadata": {
    "colab": {
      "provenance": [],
      "authorship_tag": "ABX9TyN8YUKnNW8WtcbTxJSA8wMR",
      "include_colab_link": true
    },
    "kernelspec": {
      "name": "python3",
      "display_name": "Python 3"
    },
    "language_info": {
      "name": "python"
    }
  },
  "cells": [
    {
      "cell_type": "markdown",
      "metadata": {
        "id": "view-in-github",
        "colab_type": "text"
      },
      "source": [
        "<a href=\"https://colab.research.google.com/github/Schollera/MAT421/blob/main/HW_9.ipynb\" target=\"_parent\"><img src=\"https://colab.research.google.com/assets/colab-badge.svg\" alt=\"Open In Colab\"/></a>"
      ]
    },
    {
      "cell_type": "markdown",
      "source": [
        "Sohan Chollera\n",
        "\n",
        "HW#9 | MAT421\n",
        "\n",
        "Module G: Simpson's Rule"
      ],
      "metadata": {
        "id": "Rxr7qOln8WXS"
      }
    },
    {
      "cell_type": "code",
      "execution_count": 2,
      "metadata": {
        "colab": {
          "base_uri": "https://localhost:8080/"
        },
        "id": "l6Ku8Dhr75G4",
        "outputId": "9fafcd37-b9b1-4191-e359-6bd3ac91d09f"
      },
      "outputs": [
        {
          "output_type": "stream",
          "name": "stdout",
          "text": [
            "Integral of f(x) = x from 0 to 1 using Simpson's Rule: 0.5\n"
          ]
        }
      ],
      "source": [
        "import numpy as np\n",
        "\n",
        "def simpsons_rule(func, a, b, n):\n",
        "    # Ensure n is even\n",
        "    if n % 2 == 1:\n",
        "        n += 1\n",
        "    h = (b - a) / n\n",
        "    x = np.linspace(a, b, n + 1)\n",
        "    y = func(x)\n",
        "    return (h / 3) * np.sum(y[0] + y[-1] + 4 * np.sum(y[1:-1:2]) + 2 * np.sum(y[2:-2:2]))\n",
        "\n",
        "#Linear function\n",
        "def linear_func(x):\n",
        "    return x\n",
        "\n",
        "# Simpson's Rule\n",
        "a, b, n = 0, 1, 10\n",
        "result = simpsons_rule(linear_func, a, b, n)\n",
        "print(f\"Integral of f(x) = x from {a} to {b} using Simpson's Rule: {result}\")\n"
      ]
    },
    {
      "cell_type": "code",
      "source": [
        "def quadratic_func(x):\n",
        "    return x**2\n",
        "\n",
        "#Simpson's Rule\n",
        "a, b, n = 0, 2, 10\n",
        "result = simpsons_rule(quadratic_func, a, b, n)\n",
        "print(f\"Integral of f(x) = x^2 from {a} to {b} using Simpson's Rule: {result}\")"
      ],
      "metadata": {
        "colab": {
          "base_uri": "https://localhost:8080/"
        },
        "id": "NJ49Pk2W78CQ",
        "outputId": "d3043833-0bfe-4673-b49e-47f625c938c2"
      },
      "execution_count": 3,
      "outputs": [
        {
          "output_type": "stream",
          "name": "stdout",
          "text": [
            "Integral of f(x) = x^2 from 0 to 2 using Simpson's Rule: 2.6666666666666665\n"
          ]
        }
      ]
    },
    {
      "cell_type": "code",
      "source": [
        "def sinusoidal_func(x):\n",
        "    return np.sin(x)\n",
        "\n",
        "#Simpson's Rule\n",
        "a, b, n = 0, np.pi, 10\n",
        "result = simpsons_rule(sinusoidal_func, a, b, n)\n",
        "print(f\"Integral of f(x) = sin(x) from {a} to {b} using Simpson's Rule: {result}\")"
      ],
      "metadata": {
        "colab": {
          "base_uri": "https://localhost:8080/"
        },
        "id": "PicQT_JS7-Lv",
        "outputId": "9cf5b0de-bdc4-4cd2-83b9-87c1783a7687"
      },
      "execution_count": 4,
      "outputs": [
        {
          "output_type": "stream",
          "name": "stdout",
          "text": [
            "Integral of f(x) = sin(x) from 0 to 3.141592653589793 using Simpson's Rule: 2.0001095173150043\n"
          ]
        }
      ]
    },
    {
      "cell_type": "code",
      "source": [
        "def logarithmic_func(x):\n",
        "    return np.log(x)\n",
        "\n",
        "#Simpson's Rule\n",
        "a, b, n = 1, 2, 10\n",
        "result = simpsons_rule(logarithmic_func, a, b, n)\n",
        "print(f\"Integral of f(x) = ln(x) from {a} to {b} using Simpson's Rule: {result}\")"
      ],
      "metadata": {
        "colab": {
          "base_uri": "https://localhost:8080/"
        },
        "id": "k2wHzOGN8AgM",
        "outputId": "5c558c9e-ca28-4b02-c8c7-b89108443ce8"
      },
      "execution_count": 5,
      "outputs": [
        {
          "output_type": "stream",
          "name": "stdout",
          "text": [
            "Integral of f(x) = ln(x) from 1 to 2 using Simpson's Rule: 0.38629340380480576\n"
          ]
        }
      ]
    }
  ]
}